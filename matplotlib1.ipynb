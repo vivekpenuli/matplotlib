{
  "nbformat": 4,
  "nbformat_minor": 0,
  "metadata": {
    "colab": {
      "name": "matplotlib1",
      "provenance": [],
      "collapsed_sections": [],
      "authorship_tag": "ABX9TyN73sPD1BLU+v8D1mt+SsWR",
      "include_colab_link": true
    },
    "kernelspec": {
      "name": "python3",
      "display_name": "Python 3"
    }
  },
  "cells": [
    {
      "cell_type": "markdown",
      "metadata": {
        "id": "view-in-github",
        "colab_type": "text"
      },
      "source": [
        "<a href=\"https://colab.research.google.com/github/vivekpenuli/matplotlib/blob/master/matplotlib1.ipynb\" target=\"_parent\"><img src=\"https://colab.research.google.com/assets/colab-badge.svg\" alt=\"Open In Colab\"/></a>"
      ]
    },
    {
      "cell_type": "code",
      "metadata": {
        "id": "Vy5qhf3WL2C_",
        "colab_type": "code",
        "colab": {}
      },
      "source": [
        "import matplotlib.pyplot as plt\n",
        "import numpy as np\n",
        "import random"
      ],
      "execution_count": 19,
      "outputs": []
    },
    {
      "cell_type": "code",
      "metadata": {
        "id": "6qBdnIwlNqXO",
        "colab_type": "code",
        "colab": {}
      },
      "source": [
        "apple=np.random.randint(18,45,(100))\n",
        "mango=np.random.randint(15,40,(100))"
      ],
      "execution_count": 20,
      "outputs": []
    },
    {
      "cell_type": "code",
      "metadata": {
        "id": "cbc5I5xANqb7",
        "colab_type": "code",
        "colab": {
          "base_uri": "https://localhost:8080/",
          "height": 187
        },
        "outputId": "82850258-fd3b-4c5f-bda5-d7582b2fd354"
      },
      "source": [
        "print(apple)\n",
        "print(mango)"
      ],
      "execution_count": 21,
      "outputs": [
        {
          "output_type": "stream",
          "text": [
            "[25 24 18 36 39 21 35 34 35 43 29 43 22 27 32 42 44 22 36 29 25 34 26 32\n",
            " 29 37 37 29 32 37 23 27 26 35 33 26 35 36 42 41 22 32 41 41 40 37 27 34\n",
            " 42 42 32 40 19 23 40 43 36 40 39 28 43 26 42 29 30 44 26 39 40 23 25 21\n",
            " 25 33 40 23 36 31 22 35 25 42 32 22 38 31 40 18 25 23 44 28 41 21 35 38\n",
            " 19 22 21 19]\n",
            "[30 37 18 39 34 22 25 18 18 36 31 32 16 25 26 23 31 26 35 20 34 33 38 25\n",
            " 34 33 23 33 32 19 26 20 32 20 21 33 26 34 38 39 19 34 17 22 18 33 33 20\n",
            " 34 15 15 23 25 27 23 24 37 27 17 26 37 16 31 31 29 36 26 35 24 22 25 36\n",
            " 27 34 29 32 30 31 21 24 18 23 31 33 30 36 27 15 16 33 34 31 15 27 19 35\n",
            " 19 18 33 20]\n"
          ],
          "name": "stdout"
        }
      ]
    },
    {
      "cell_type": "code",
      "metadata": {
        "id": "1d-XlzELScXi",
        "colab_type": "code",
        "colab": {}
      },
      "source": [
        "import pandas as pd\n",
        "index = pd.Index(apple)\n",
        "index.value_counts().sort_values(ascending=False)"
      ],
      "execution_count": null,
      "outputs": []
    },
    {
      "cell_type": "code",
      "metadata": {
        "id": "PavttXh8Whnc",
        "colab_type": "code",
        "colab": {}
      },
      "source": [
        "index1 = pd.Index(mango)\n",
        "index1.value_counts().sort_values(ascending=False)"
      ],
      "execution_count": null,
      "outputs": []
    },
    {
      "cell_type": "code",
      "metadata": {
        "id": "6UgZxVUvWlwm",
        "colab_type": "code",
        "colab": {
          "base_uri": "https://localhost:8080/",
          "height": 136
        },
        "outputId": "39d947bf-3785-465c-928b-9c5a93ed6121"
      },
      "source": [
        "index1.value_counts(bins=[15,20,25,30,35,40,45])   # here this bin is different from the matplotlib bin"
      ],
      "execution_count": 24,
      "outputs": [
        {
          "output_type": "execute_result",
          "data": {
            "text/plain": [
              "(30.0, 35.0]      31\n",
              "(14.999, 20.0]    24\n",
              "(20.0, 25.0]      18\n",
              "(25.0, 30.0]      16\n",
              "(35.0, 40.0]      11\n",
              "(40.0, 45.0]       0\n",
              "dtype: int64"
            ]
          },
          "metadata": {
            "tags": []
          },
          "execution_count": 24
        }
      ]
    },
    {
      "cell_type": "code",
      "metadata": {
        "id": "kdjlWBBzk1-8",
        "colab_type": "code",
        "colab": {
          "base_uri": "https://localhost:8080/",
          "height": 153
        },
        "outputId": "fc78cb1b-93b6-4fbe-d6e9-1d1c375c31db"
      },
      "source": [
        "binnedPopulation = pd.cut(index,bins=[15,19,24,29,34,39,44,49])\n",
        "print(binnedPopulation.value_counts())"
      ],
      "execution_count": 27,
      "outputs": [
        {
          "output_type": "stream",
          "text": [
            "(15, 19]     5\n",
            "(19, 24]    16\n",
            "(24, 29]    21\n",
            "(29, 34]    14\n",
            "(34, 39]    20\n",
            "(39, 44]    24\n",
            "(44, 49]     0\n",
            "dtype: int64\n"
          ],
          "name": "stdout"
        }
      ]
    },
    {
      "cell_type": "code",
      "metadata": {
        "id": "XC16kK2vNqgb",
        "colab_type": "code",
        "colab": {
          "base_uri": "https://localhost:8080/",
          "height": 299
        },
        "outputId": "6bb2362b-d17d-4bee-d7b8-e3d6c718c480"
      },
      "source": [
        "#bins=[10,15,20,25,30,40,45,50]\n",
        "plt.title(\"distribution\")\n",
        "plt.xlabel(\"student age categories\")\n",
        "plt.ylabel(\"no of student\")\n",
        "plt.hist(apple,rwidth=0.8)\n",
        "plt.show()"
      ],
      "execution_count": 28,
      "outputs": [
        {
          "output_type": "display_data",
          "data": {
            "image/png": "[encoded data removed]",
            "text/plain": [
              "<Figure size 432x288 with 1 Axes>"
            ]
          },
          "metadata": {
            "tags": []
          }
        }
      ]
    },
    {
      "cell_type": "code",
      "metadata": {
        "id": "Ej5aRUSTlVhO",
        "colab_type": "code",
        "colab": {
          "base_uri": "https://localhost:8080/",
          "height": 299
        },
        "outputId": "3274b4cd-7250-4683-dc04-f64bc050264f"
      },
      "source": [
        "from matplotlib import style\n",
        "style.use('ggplot')\n",
        "bins=[15,20,25,30,35,40,45,50]  \n",
        "plt.hist(apple,rwidth=0.9,bins=bins)\n",
        "plt.title(\"distibution\")\n",
        "plt.xlabel('student age categories')\n",
        "plt.ylabel(\"frequency\")\n",
        "plt.show()"
      ],
      "execution_count": 36,
      "outputs": [
        {
          "output_type": "display_data",
          "data": {
            "image/png": "[encoded data removed]",
            "text/plain": [
              "<Figure size 432x288 with 1 Axes>"
            ]
          },
          "metadata": {
            "tags": []
          }
        }
      ]
    },
    {
      "cell_type": "code",
      "metadata": {
        "id": "obvsyrc1NqtB",
        "colab_type": "code",
        "colab": {
          "base_uri": "https://localhost:8080/",
          "height": 358
        },
        "outputId": "bae7f0ce-1ca1-4d8b-b9b9-b98a18739911"
      },
      "source": [
        "\n",
        "style.use('ggplot')\n",
        "plt.figure(figsize=(8,5))     # columns (breadth), rows (length)\n",
        "bins=[15,20,25,30,35,40,45,50]\n",
        "plt.hist([apple,mango],bins,rwidth=0.8,histtype=\"bar\",color=['blue','red'],label=[\"no of apple\",'no of mango'])\n",
        "plt.title(\"distribution\",fontsize=20)\n",
        "plt.xlabel(\"student age categories\")\n",
        "plt.ylabel(\"no of student\")\n",
        "plt.legend()\n",
        "plt.show()\n",
        "#'bar', 'barstacked', 'step', 'stepfilled'"
      ],
      "execution_count": 30,
      "outputs": [
        {
          "output_type": "display_data",
          "data": {
            "image/png": "[encoded data removed]",
            "text/plain": [
              "<Figure size 576x360 with 1 Axes>"
            ]
          },
          "metadata": {
            "tags": []
          }
        }
      ]
    },
    {
      "cell_type": "markdown",
      "metadata": {
        "id": "IuonZoJRkVYy",
        "colab_type": "text"
      },
      "source": [
        "\n",
        "#bar chart"
      ]
    },
    {
      "cell_type": "code",
      "metadata": {
        "id": "QHTXEeWgkXxv",
        "colab_type": "code",
        "colab": {
          "base_uri": "https://localhost:8080/",
          "height": 285
        },
        "outputId": "c4304f2d-09cf-472a-aa92-6c8dbf6f67f9"
      },
      "source": [
        "cla=['python','r','ai','ml','ds']\n",
        "class1=[30,10,50,45,67]\n",
        "class2=[45,34,20,60,55]\n",
        "class3=[55,67,45,30,40]\n",
        "plt.bar(cla,class1,width=0.4,align='edge',color='y',edgecolor='m',linewidth=5,alpha=0.9)\n",
        "plt.bar(cla,class2,width=0.4,align='edge',color='green',edgecolor='red',linewidth=5,alpha=0.9)"
      ],
      "execution_count": null,
      "outputs": [
        {
          "output_type": "execute_result",
          "data": {
            "text/plain": [
              "<BarContainer object of 5 artists>"
            ]
          },
          "metadata": {
            "tags": []
          },
          "execution_count": 149
        },
        {
          "output_type": "display_data",
          "data": {
            "image/png": "[encoded data removed]",
            "text/plain": [
              "<Figure size 432x288 with 1 Axes>"
            ]
          },
          "metadata": {
            "tags": []
          }
        }
      ]
    },
    {
      "cell_type": "code",
      "metadata": {
        "id": "Xo_44YrUm3hW",
        "colab_type": "code",
        "colab": {
          "base_uri": "https://localhost:8080/",
          "height": 505
        },
        "outputId": "ce152e6e-343c-4e80-e3f7-459cc75c8c02"
      },
      "source": [
        "style.use('ggplot')\n",
        "plt.figure(figsize=(12,5))  \n",
        "class_index=np.arange(len(cla))\n",
        "width=0.2\n",
        "plt.bar(class_index,class1,width,align='edge',color='y',edgecolor='m',linewidth=5,alpha=0.9)\n",
        "plt.bar(class_index+width,class2,width,align='edge',color='green',edgecolor='red',linewidth=5,alpha=0.9)\n",
        "plt.bar(class_index+width+width,class3,width,align='edge',color='blue',edgecolor='red',linewidth=5,alpha=0.9)\n",
        "plt.xticks(class_index+width,cla,rotation=23)"
      ],
      "execution_count": null,
      "outputs": [
        {
          "output_type": "execute_result",
          "data": {
            "text/plain": [
              "([<matplotlib.axis.XTick at 0x7f119200f6d8>,\n",
              "  <matplotlib.axis.XTick at 0x7f119200f438>,\n",
              "  <matplotlib.axis.XTick at 0x7f11920001d0>,\n",
              "  <matplotlib.axis.XTick at 0x7f1190c65fd0>,\n",
              "  <matplotlib.axis.XTick at 0x7f119202c438>],\n",
              " [Text(0, 0, 'python'),\n",
              "  Text(0, 0, 'r'),\n",
              "  Text(0, 0, 'ai'),\n",
              "  Text(0, 0, 'ml'),\n",
              "  Text(0, 0, 'ds')])"
            ]
          },
          "metadata": {
            "tags": []
          },
          "execution_count": 154
        },
        {
          "output_type": "display_data",
          "data": {
            "image/png": "[encoded data removed]",
            "text/plain": [
              "<Figure size 864x360 with 1 Axes>"
            ]
          },
          "metadata": {
            "tags": []
          }
        }
      ]
    },
    {
      "cell_type": "code",
      "metadata": {
        "id": "w1tfgvBvm3sc",
        "colab_type": "code",
        "colab": {}
      },
      "source": [
        ""
      ],
      "execution_count": null,
      "outputs": []
    },
    {
      "cell_type": "code",
      "metadata": {
        "id": "vF8_mKMym3w3",
        "colab_type": "code",
        "colab": {}
      },
      "source": [
        ""
      ],
      "execution_count": null,
      "outputs": []
    }
  ]
}