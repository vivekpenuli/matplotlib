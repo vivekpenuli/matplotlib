{
  "nbformat": 4,
  "nbformat_minor": 0,
  "metadata": {
    "colab": {
      "name": "Copy of matplotlib1",
      "provenance": [],
      "collapsed_sections": [],
      "authorship_tag": "ABX9TyPI7AOl07I1pRWfBQjzy87m",
      "include_colab_link": true
    },
    "kernelspec": {
      "name": "python3",
      "display_name": "Python 3"
    }
  },
  "cells": [
    {
      "cell_type": "markdown",
      "metadata": {
        "id": "view-in-github",
        "colab_type": "text"
      },
      "source": [
        "<a href=\"https://colab.research.google.com/github/vivekpenuli/matplotlib/blob/master/Copy_of_matplotlib1.ipynb\" target=\"_parent\"><img src=\"https://colab.research.google.com/assets/colab-badge.svg\" alt=\"Open In Colab\"/></a>"
      ]
    },
    {
      "cell_type": "code",
      "metadata": {
        "id": "Vy5qhf3WL2C_",
        "colab_type": "code",
        "colab": {}
      },
      "source": [
        "import matplotlib.pyplot as plt\n",
        "import numpy as np\n",
        "import random"
      ],
      "execution_count": null,
      "outputs": []
    },
    {
      "cell_type": "code",
      "metadata": {
        "id": "6qBdnIwlNqXO",
        "colab_type": "code",
        "colab": {}
      },
      "source": [
        "apple=np.random.randint(18,45,(100))\n",
        "mango=np.random.randint(15,40,(100))"
      ],
      "execution_count": null,
      "outputs": []
    },
    {
      "cell_type": "code",
      "metadata": {
        "id": "cbc5I5xANqb7",
        "colab_type": "code",
        "colab": {
          "base_uri": "https://localhost:8080/",
          "height": 187
        },
        "outputId": "f83f0665-b3d0-4abd-e417-ebb3fa1be2d1"
      },
      "source": [
        "print(apple)\n",
        "print(mango)"
      ],
      "execution_count": null,
      "outputs": [
        {
          "output_type": "stream",
          "text": [
            "[32 20 37 31 43 27 43 32 38 32 35 20 35 19 28 18 26 38 40 36 26 35 26 20\n",
            " 20 34 20 20 34 18 40 39 22 21 22 32 25 22 36 35 39 41 35 40 43 33 41 27\n",
            " 34 20 33 37 38 41 31 21 39 31 18 44 20 27 34 19 42 20 28 32 24 25 28 31\n",
            " 19 22 35 35 39 34 28 43 26 43 26 26 40 38 19 22 29 26 26 21 19 22 31 36\n",
            " 30 23 22 43]\n",
            "[19 39 23 17 26 16 17 17 23 35 16 31 35 31 21 22 25 22 16 34 31 25 39 32\n",
            " 19 33 18 32 18 32 25 30 20 28 17 17 16 16 32 21 24 36 21 32 39 36 35 22\n",
            " 26 18 33 39 36 37 35 21 31 17 27 25 17 27 23 21 26 15 28 31 16 34 21 34\n",
            " 28 30 26 31 30 34 21 28 36 16 22 24 28 19 36 25 28 18 36 29 24 36 23 27\n",
            " 20 39 16 35]\n"
          ],
          "name": "stdout"
        }
      ]
    },
    {
      "cell_type": "code",
      "metadata": {
        "id": "1d-XlzELScXi",
        "colab_type": "code",
        "colab": {}
      },
      "source": [
        "import pandas as pd\n",
        "index = pd.Index(apple)\n",
        "index.value_counts().sort_values(ascending=False)"
      ],
      "execution_count": null,
      "outputs": []
    },
    {
      "cell_type": "code",
      "metadata": {
        "id": "PavttXh8Whnc",
        "colab_type": "code",
        "colab": {}
      },
      "source": [
        "index1 = pd.Index(mango)\n",
        "index1.value_counts().sort_values(ascending=False)"
      ],
      "execution_count": null,
      "outputs": []
    },
    {
      "cell_type": "code",
      "metadata": {
        "id": "6UgZxVUvWlwm",
        "colab_type": "code",
        "colab": {
          "base_uri": "https://localhost:8080/",
          "height": 136
        },
        "outputId": "088c48d6-9e33-4d89-f4a3-02894c6f4b36"
      },
      "source": [
        "index1.value_counts(bins=[15,20,25,30,35,40,45])   # here this bin is different from the matplotlib bin"
      ],
      "execution_count": null,
      "outputs": [
        {
          "output_type": "execute_result",
          "data": {
            "text/plain": [
              "(14.999, 20.0]    25\n",
              "(20.0, 25.0]      23\n",
              "(30.0, 35.0]      22\n",
              "(25.0, 30.0]      17\n",
              "(35.0, 40.0]      13\n",
              "(40.0, 45.0]       0\n",
              "dtype: int64"
            ]
          },
          "metadata": {
            "tags": []
          },
          "execution_count": 6
        }
      ]
    },
    {
      "cell_type": "code",
      "metadata": {
        "id": "GC1mMEM7xsG4",
        "colab_type": "code",
        "colab": {
          "base_uri": "https://localhost:8080/",
          "height": 153
        },
        "outputId": "73dcdc67-9cda-4c4e-c643-e023c3f5b3f1"
      },
      "source": [
        "binnedPopulationok = pd.cut(index,bins=[15,20,25,30,35,40,45,50]) # this also dont work like matplotlib\n",
        "print(binnedPopulationok.value_counts())"
      ],
      "execution_count": null,
      "outputs": [
        {
          "output_type": "stream",
          "text": [
            "(15, 20]    17\n",
            "(20, 25]    14\n",
            "(25, 30]    17\n",
            "(30, 35]    24\n",
            "(35, 40]    17\n",
            "(40, 45]    11\n",
            "(45, 50]     0\n",
            "dtype: int64\n"
          ],
          "name": "stdout"
        }
      ]
    },
    {
      "cell_type": "code",
      "metadata": {
        "id": "kdjlWBBzk1-8",
        "colab_type": "code",
        "colab": {
          "base_uri": "https://localhost:8080/",
          "height": 153
        },
        "outputId": "7b8cff95-4927-40a6-f38c-c796652d26ed"
      },
      "source": [
        "binnedPopulation = pd.cut(index,bins=[15,19,24,29,34,39,44,49]) # this is how it work in matplotlib\n",
        "print(binnedPopulation.value_counts())"
      ],
      "execution_count": null,
      "outputs": [
        {
          "output_type": "stream",
          "text": [
            "(15, 19]     8\n",
            "(19, 24]    21\n",
            "(24, 29]    18\n",
            "(29, 34]    18\n",
            "(34, 39]    20\n",
            "(39, 44]    15\n",
            "(44, 49]     0\n",
            "dtype: int64\n"
          ],
          "name": "stdout"
        }
      ]
    },
    {
      "cell_type": "code",
      "metadata": {
        "id": "z7Uqdoiezxdp",
        "colab_type": "code",
        "colab": {
          "base_uri": "https://localhost:8080/",
          "height": 153
        },
        "outputId": "d54e71af-f3c4-4176-d893-694bc7f7a2f8"
      },
      "source": [
        "binnedPopulationok = pd.cut(index,bins=[15,20,25,30,35,40,45,50],right=False) # this is also it can be done\n",
        "print(binnedPopulationok.value_counts())"
      ],
      "execution_count": null,
      "outputs": [
        {
          "output_type": "stream",
          "text": [
            "[15, 20)     8\n",
            "[20, 25)    21\n",
            "[25, 30)    18\n",
            "[30, 35)    18\n",
            "[35, 40)    20\n",
            "[40, 45)    15\n",
            "[45, 50)     0\n",
            "dtype: int64\n"
          ],
          "name": "stdout"
        }
      ]
    },
    {
      "cell_type": "code",
      "metadata": {
        "id": "XC16kK2vNqgb",
        "colab_type": "code",
        "colab": {
          "base_uri": "https://localhost:8080/",
          "height": 299
        },
        "outputId": "81e79ee2-01e9-4afb-c12c-4c47345819ed"
      },
      "source": [
        "#bins=[10,15,20,25,30,40,45,50]\n",
        "plt.title(\"distribution\")\n",
        "plt.xlabel(\"student age categories\")\n",
        "plt.ylabel(\"no of student\")\n",
        "plt.hist(apple,rwidth=0.8)\n",
        "plt.show()"
      ],
      "execution_count": null,
      "outputs": [
        {
          "output_type": "display_data",
          "data": {
            "image/png": "[encoded data removed]",
            "text/plain": [
              "<Figure size 432x288 with 1 Axes>"
            ]
          },
          "metadata": {
            "tags": []
          }
        }
      ]
    },
    {
      "cell_type": "code",
      "metadata": {
        "id": "Ej5aRUSTlVhO",
        "colab_type": "code",
        "colab": {
          "base_uri": "https://localhost:8080/",
          "height": 299
        },
        "outputId": "52f81484-b7b9-4649-f4d1-0892ad74f77c"
      },
      "source": [
        "from matplotlib import style\n",
        "style.use('ggplot')\n",
        "bins=[15,20,25,30,35,40,45,50]  \n",
        "plt.hist(apple,rwidth=0.9,bins=bins)\n",
        "plt.title(\"distibution\")\n",
        "plt.xlabel('student age categories')\n",
        "plt.ylabel(\"frequency\")\n",
        "plt.show()"
      ],
      "execution_count": null,
      "outputs": [
        {
          "output_type": "display_data",
          "data": {
            "image/png": "[encoded data removed]",
            "text/plain": [
              "<Figure size 432x288 with 1 Axes>"
            ]
          },
          "metadata": {
            "tags": []
          }
        }
      ]
    },
    {
      "cell_type": "code",
      "metadata": {
        "id": "obvsyrc1NqtB",
        "colab_type": "code",
        "colab": {
          "base_uri": "https://localhost:8080/",
          "height": 358
        },
        "outputId": "bae7f0ce-1ca1-4d8b-b9b9-b98a18739911"
      },
      "source": [
        "\n",
        "style.use('ggplot')\n",
        "plt.figure(figsize=(8,5))     # columns (breadth), rows (length)\n",
        "bins=[15,20,25,30,35,40,45,50]\n",
        "plt.hist([apple,mango],bins,rwidth=0.8,histtype=\"bar\",color=['blue','red'],label=[\"no of apple\",'no of mango'])\n",
        "plt.title(\"distribution\",fontsize=20)\n",
        "plt.xlabel(\"student age categories\")\n",
        "plt.ylabel(\"no of student\")\n",
        "plt.legend()\n",
        "plt.show()\n",
        "#'bar', 'barstacked', 'step', 'stepfilled'"
      ],
      "execution_count": null,
      "outputs": [
        {
          "output_type": "display_data",
          "data": {
            "image/png": "[encoded data removed]",
            "text/plain": [
              "<Figure size 576x360 with 1 Axes>"
            ]
          },
          "metadata": {
            "tags": []
          }
        }
      ]
    },
    {
      "cell_type": "markdown",
      "metadata": {
        "id": "IuonZoJRkVYy",
        "colab_type": "text"
      },
      "source": [
        "\n",
        "#bar chart"
      ]
    },
    {
      "cell_type": "code",
      "metadata": {
        "id": "QHTXEeWgkXxv",
        "colab_type": "code",
        "colab": {
          "base_uri": "https://localhost:8080/",
          "height": 285
        },
        "outputId": "c4304f2d-09cf-472a-aa92-6c8dbf6f67f9"
      },
      "source": [
        "cla=['python','r','ai','ml','ds']\n",
        "class1=[30,10,50,45,67]\n",
        "class2=[45,34,20,60,55]\n",
        "class3=[55,67,45,30,40]\n",
        "plt.bar(cla,class1,width=0.4,align='edge',color='y',edgecolor='m',linewidth=5,alpha=0.9)\n",
        "plt.bar(cla,class2,width=0.4,align='edge',color='green',edgecolor='red',linewidth=5,alpha=0.9)"
      ],
      "execution_count": null,
      "outputs": [
        {
          "output_type": "execute_result",
          "data": {
            "text/plain": [
              "<BarContainer object of 5 artists>"
            ]
          },
          "metadata": {
            "tags": []
          },
          "execution_count": 149
        },
        {
          "output_type": "display_data",
          "data": {
            "image/png": "[encoded data removed]",
            "text/plain": [
              "<Figure size 432x288 with 1 Axes>"
            ]
          },
          "metadata": {
            "tags": []
          }
        }
      ]
    },
    {
      "cell_type": "code",
      "metadata": {
        "id": "Xo_44YrUm3hW",
        "colab_type": "code",
        "colab": {
          "base_uri": "https://localhost:8080/",
          "height": 505
        },
        "outputId": "ce152e6e-343c-4e80-e3f7-459cc75c8c02"
      },
      "source": [
        "style.use('ggplot')\n",
        "plt.figure(figsize=(12,5))  \n",
        "class_index=np.arange(len(cla))\n",
        "width=0.2\n",
        "plt.bar(class_index,class1,width,align='edge',color='y',edgecolor='m',linewidth=5,alpha=0.9)\n",
        "plt.bar(class_index+width,class2,width,align='edge',color='green',edgecolor='red',linewidth=5,alpha=0.9)\n",
        "plt.bar(class_index+width+width,class3,width,align='edge',color='blue',edgecolor='red',linewidth=5,alpha=0.9)\n",
        "plt.xticks(class_index+width,cla,rotation=23)"
      ],
      "execution_count": null,
      "outputs": [
        {
          "output_type": "execute_result",
          "data": {
            "text/plain": [
              "([<matplotlib.axis.XTick at 0x7f119200f6d8>,\n",
              "  <matplotlib.axis.XTick at 0x7f119200f438>,\n",
              "  <matplotlib.axis.XTick at 0x7f11920001d0>,\n",
              "  <matplotlib.axis.XTick at 0x7f1190c65fd0>,\n",
              "  <matplotlib.axis.XTick at 0x7f119202c438>],\n",
              " [Text(0, 0, 'python'),\n",
              "  Text(0, 0, 'r'),\n",
              "  Text(0, 0, 'ai'),\n",
              "  Text(0, 0, 'ml'),\n",
              "  Text(0, 0, 'ds')])"
            ]
          },
          "metadata": {
            "tags": []
          },
          "execution_count": 154
        },
        {
          "output_type": "display_data",
          "data": {
            "image/png": "[encoded data removed]",
            "text/plain": [
              "<Figure size 864x360 with 1 Axes>"
            ]
          },
          "metadata": {
            "tags": []
          }
        }
      ]
    },
    {
      "cell_type": "code",
      "metadata": {
        "id": "w1tfgvBvm3sc",
        "colab_type": "code",
        "colab": {}
      },
      "source": [
        ""
      ],
      "execution_count": null,
      "outputs": []
    },
    {
      "cell_type": "code",
      "metadata": {
        "id": "vF8_mKMym3w3",
        "colab_type": "code",
        "colab": {}
      },
      "source": [
        ""
      ],
      "execution_count": null,
      "outputs": []
    }
  ]
}