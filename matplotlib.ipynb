{
  "nbformat": 4,
  "nbformat_minor": 0,
  "metadata": {
    "colab": {
      "name": "matplotlib",
      "provenance": [],
      "authorship_tag": "ABX9TyN+t9TZZ7b4PidpN4B31IPm",
      "include_colab_link": true
    },
    "kernelspec": {
      "name": "python3",
      "display_name": "Python 3"
    }
  },
  "cells": [
    {
      "cell_type": "markdown",
      "metadata": {
        "id": "view-in-github",
        "colab_type": "text"
      },
      "source": [
        "<a href=\"https://colab.research.google.com/github/vivekpenuli/matplotlib/blob/master/matplotlib.ipynb\" target=\"_parent\"><img src=\"https://colab.research.google.com/assets/colab-badge.svg\" alt=\"Open In Colab\"/></a>"
      ]
    },
    {
      "cell_type": "code",
      "metadata": {
        "id": "Vy5qhf3WL2C_",
        "colab_type": "code",
        "colab": {}
      },
      "source": [
        "import matplotlib.pyplot as plt\n",
        "import numpy as np\n",
        "import random"
      ],
      "execution_count": 2,
      "outputs": []
    },
    {
      "cell_type": "code",
      "metadata": {
        "id": "6qBdnIwlNqXO",
        "colab_type": "code",
        "colab": {}
      },
      "source": [
        "apple=np.random.randint(18,45,(100))\n",
        "mango=np.random.randint(15,40,(100))"
      ],
      "execution_count": 3,
      "outputs": []
    },
    {
      "cell_type": "code",
      "metadata": {
        "id": "cbc5I5xANqb7",
        "colab_type": "code",
        "colab": {
          "base_uri": "https://localhost:8080/",
          "height": 187
        },
        "outputId": "23055bb2-dda7-47b5-fad6-54bd88f13de3"
      },
      "source": [
        "print(apple)\n",
        "print(mango)"
      ],
      "execution_count": 4,
      "outputs": [
        {
          "output_type": "stream",
          "text": [
            "[38 19 44 32 37 35 39 33 18 39 18 29 29 32 20 33 38 20 24 39 29 40 31 38\n",
            " 40 36 30 18 19 23 24 22 41 26 21 29 40 28 41 20 18 19 30 22 18 31 21 42\n",
            " 44 19 37 40 33 43 35 38 35 28 39 37 31 32 26 34 20 22 28 30 18 38 30 19\n",
            " 21 34 24 24 43 20 28 31 40 42 30 30 28 22 34 20 25 42 21 18 37 38 20 25\n",
            " 20 18 43 33]\n",
            "[16 39 34 28 15 19 24 33 31 25 17 21 18 34 31 27 39 23 37 31 27 35 38 21\n",
            " 27 17 15 38 25 26 22 29 32 29 15 25 37 35 29 39 35 23 22 35 28 28 15 33\n",
            " 22 25 39 24 27 18 16 18 18 35 25 16 29 24 38 27 26 18 16 33 17 37 32 28\n",
            " 22 16 18 29 18 22 29 19 22 20 23 28 33 17 18 19 36 37 23 22 30 31 39 33\n",
            " 35 16 25 26]\n"
          ],
          "name": "stdout"
        }
      ]
    },
    {
      "cell_type": "code",
      "metadata": {
        "id": "1d-XlzELScXi",
        "colab_type": "code",
        "colab": {
          "base_uri": "https://localhost:8080/",
          "height": 476
        },
        "outputId": "7a8826a2-f031-4645-ee6d-cbdcbc74943f"
      },
      "source": [
        "import pandas as pd\n",
        "index = pd.Index(apple)\n",
        "index.value_counts().sort_values(ascending=False)"
      ],
      "execution_count": 54,
      "outputs": [
        {
          "output_type": "execute_result",
          "data": {
            "text/plain": [
              "18    8\n",
              "20    8\n",
              "30    6\n",
              "38    6\n",
              "19    5\n",
              "40    5\n",
              "28    5\n",
              "31    4\n",
              "21    4\n",
              "22    4\n",
              "24    4\n",
              "29    4\n",
              "33    4\n",
              "37    4\n",
              "39    4\n",
              "32    3\n",
              "43    3\n",
              "34    3\n",
              "35    3\n",
              "42    3\n",
              "26    2\n",
              "25    2\n",
              "41    2\n",
              "44    2\n",
              "36    1\n",
              "23    1\n",
              "dtype: int64"
            ]
          },
          "metadata": {
            "tags": []
          },
          "execution_count": 54
        }
      ]
    },
    {
      "cell_type": "code",
      "metadata": {
        "id": "PavttXh8Whnc",
        "colab_type": "code",
        "colab": {}
      },
      "source": [
        "index1 = pd.Index(mango)\n",
        "index1.value_counts().sort_values(ascending=False)"
      ],
      "execution_count": null,
      "outputs": []
    },
    {
      "cell_type": "code",
      "metadata": {
        "id": "6UgZxVUvWlwm",
        "colab_type": "code",
        "colab": {}
      },
      "source": [
        "index1.value_counts(bins=[15,20,25,30,35,40,45])"
      ],
      "execution_count": null,
      "outputs": []
    },
    {
      "cell_type": "code",
      "metadata": {
        "id": "pH4vAPuFd6O8",
        "colab_type": "code",
        "colab": {
          "base_uri": "https://localhost:8080/",
          "height": 136
        },
        "outputId": "981856e9-c63b-40bc-b6f9-ed5566785da8"
      },
      "source": [
        "index.value_counts(bins=[15,20,25,30,35,40,45]) # waht we think"
      ],
      "execution_count": 109,
      "outputs": [
        {
          "output_type": "execute_result",
          "data": {
            "text/plain": [
              "(14.999, 20.0]    21\n",
              "(35.0, 40.0]      20\n",
              "(30.0, 35.0]      17\n",
              "(25.0, 30.0]      17\n",
              "(20.0, 25.0]      15\n",
              "(40.0, 45.0]      10\n",
              "dtype: int64"
            ]
          },
          "metadata": {
            "tags": []
          },
          "execution_count": 109
        }
      ]
    },
    {
      "cell_type": "code",
      "metadata": {
        "id": "7RQTr9BPfRfc",
        "colab_type": "code",
        "colab": {
          "base_uri": "https://localhost:8080/",
          "height": 153
        },
        "outputId": "cfaabeab-4b33-4ce2-d7e7-abe7d67c1060"
      },
      "source": [
        "index.value_counts(bins=[15,19,24,29,34,39,44,49]) # what actually it is"
      ],
      "execution_count": 121,
      "outputs": [
        {
          "output_type": "execute_result",
          "data": {
            "text/plain": [
              "(19.0, 24.0]      21\n",
              "(29.0, 34.0]      20\n",
              "(34.0, 39.0]      18\n",
              "(39.0, 44.0]      15\n",
              "(24.0, 29.0]      13\n",
              "(14.999, 19.0]    13\n",
              "(44.0, 49.0]       0\n",
              "dtype: int64"
            ]
          },
          "metadata": {
            "tags": []
          },
          "execution_count": 121
        }
      ]
    },
    {
      "cell_type": "code",
      "metadata": {
        "id": "XC16kK2vNqgb",
        "colab_type": "code",
        "colab": {
          "base_uri": "https://localhost:8080/",
          "height": 295
        },
        "outputId": "9f4be1d1-572d-4d9c-ba9c-a150c7e67d3f"
      },
      "source": [
        "#bins=[10,15,20,25,30,40,45,50]\n",
        "plt.title(\"distribution\")\n",
        "plt.xlabel(\"student age categories\")\n",
        "plt.ylabel(\"no of student\")\n",
        "plt.hist(apple,rwidth=0.8,bins)\n",
        "plt.show()"
      ],
      "execution_count": 95,
      "outputs": [
        {
          "output_type": "display_data",
          "data": {
            "image/png": "[encoded data removed]",
            "text/plain": [
              "<Figure size 432x288 with 1 Axes>"
            ]
          },
          "metadata": {
            "tags": [],
            "needs_background": "light"
          }
        }
      ]
    },
    {
      "cell_type": "code",
      "metadata": {
        "id": "obvsyrc1NqtB",
        "colab_type": "code",
        "colab": {
          "base_uri": "https://localhost:8080/",
          "height": 358
        },
        "outputId": "39d10049-bb0a-41f4-da78-5cec1e524c16"
      },
      "source": [
        "from matplotlib import style\n",
        "style.use('ggplot')\n",
        "plt.figure(figsize=(8,5))     # columns (breadth), rows (length)\n",
        "bins=[15,20,25,30,35,40,45,50]\n",
        "plt.hist([apple,mango],bins,rwidth=0.8,histtype=\"bar\",color=['blue','red'],label=[\"no of apple\",'no of mango'])\n",
        "plt.title(\"distribution\",fontsize=20)\n",
        "plt.xlabel(\"student age categories\")\n",
        "plt.ylabel(\"no of student\")\n",
        "plt.legend()\n",
        "plt.show()\n",
        "#'bar', 'barstacked', 'step', 'stepfilled'"
      ],
      "execution_count": 139,
      "outputs": [
        {
          "output_type": "display_data",
          "data": {
            "image/png": "[encoded data removed]",
            "text/plain": [
              "<Figure size 576x360 with 1 Axes>"
            ]
          },
          "metadata": {
            "tags": []
          }
        }
      ]
    },
    {
      "cell_type": "markdown",
      "metadata": {
        "id": "IuonZoJRkVYy",
        "colab_type": "text"
      },
      "source": [
        "\n",
        "#bar chart"
      ]
    },
    {
      "cell_type": "code",
      "metadata": {
        "id": "QHTXEeWgkXxv",
        "colab_type": "code",
        "colab": {
          "base_uri": "https://localhost:8080/",
          "height": 285
        },
        "outputId": "c4304f2d-09cf-472a-aa92-6c8dbf6f67f9"
      },
      "source": [
        "cla=['python','r','ai','ml','ds']\n",
        "class1=[30,10,50,45,67]\n",
        "class2=[45,34,20,60,55]\n",
        "class3=[55,67,45,30,40]\n",
        "plt.bar(cla,class1,width=0.4,align='edge',color='y',edgecolor='m',linewidth=5,alpha=0.9)\n",
        "plt.bar(cla,class2,width=0.4,align='edge',color='green',edgecolor='red',linewidth=5,alpha=0.9)"
      ],
      "execution_count": 149,
      "outputs": [
        {
          "output_type": "execute_result",
          "data": {
            "text/plain": [
              "<BarContainer object of 5 artists>"
            ]
          },
          "metadata": {
            "tags": []
          },
          "execution_count": 149
        },
        {
          "output_type": "display_data",
          "data": {
            "image/png": "[encoded data removed]",
            "text/plain": [
              "<Figure size 432x288 with 1 Axes>"
            ]
          },
          "metadata": {
            "tags": []
          }
        }
      ]
    },
    {
      "cell_type": "code",
      "metadata": {
        "id": "Xo_44YrUm3hW",
        "colab_type": "code",
        "colab": {
          "base_uri": "https://localhost:8080/",
          "height": 505
        },
        "outputId": "ce152e6e-343c-4e80-e3f7-459cc75c8c02"
      },
      "source": [
        "style.use('ggplot')\n",
        "plt.figure(figsize=(12,5))  \n",
        "class_index=np.arange(len(cla))\n",
        "width=0.2\n",
        "plt.bar(class_index,class1,width,align='edge',color='y',edgecolor='m',linewidth=5,alpha=0.9)\n",
        "plt.bar(class_index+width,class2,width,align='edge',color='green',edgecolor='red',linewidth=5,alpha=0.9)\n",
        "plt.bar(class_index+width+width,class3,width,align='edge',color='blue',edgecolor='red',linewidth=5,alpha=0.9)\n",
        "plt.xticks(class_index+width,cla,rotation=23)"
      ],
      "execution_count": 154,
      "outputs": [
        {
          "output_type": "execute_result",
          "data": {
            "text/plain": [
              "([<matplotlib.axis.XTick at 0x7f119200f6d8>,\n",
              "  <matplotlib.axis.XTick at 0x7f119200f438>,\n",
              "  <matplotlib.axis.XTick at 0x7f11920001d0>,\n",
              "  <matplotlib.axis.XTick at 0x7f1190c65fd0>,\n",
              "  <matplotlib.axis.XTick at 0x7f119202c438>],\n",
              " [Text(0, 0, 'python'),\n",
              "  Text(0, 0, 'r'),\n",
              "  Text(0, 0, 'ai'),\n",
              "  Text(0, 0, 'ml'),\n",
              "  Text(0, 0, 'ds')])"
            ]
          },
          "metadata": {
            "tags": []
          },
          "execution_count": 154
        },
        {
          "output_type": "display_data",
          "data": {
            "image/png": "[encoded data removed]",
            "text/plain": [
              "<Figure size 864x360 with 1 Axes>"
            ]
          },
          "metadata": {
            "tags": []
          }
        }
      ]
    },
    {
      "cell_type": "code",
      "metadata": {
        "id": "w1tfgvBvm3sc",
        "colab_type": "code",
        "colab": {}
      },
      "source": [
        ""
      ],
      "execution_count": null,
      "outputs": []
    },
    {
      "cell_type": "code",
      "metadata": {
        "id": "vF8_mKMym3w3",
        "colab_type": "code",
        "colab": {}
      },
      "source": [
        ""
      ],
      "execution_count": null,
      "outputs": []
    }
  ]
}